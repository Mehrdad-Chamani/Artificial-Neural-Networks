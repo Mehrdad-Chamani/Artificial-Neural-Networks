{
  "nbformat": 4,
  "nbformat_minor": 0,
  "metadata": {
    "colab": {
      "name": "ANNs-from-Scratch-21-Final.ipynb",
      "provenance": [],
      "collapsed_sections": [],
      "authorship_tag": "ABX9TyNX5tsqUftHXWhAqyWlXKuv",
      "include_colab_link": true
    },
    "kernelspec": {
      "name": "python3",
      "display_name": "Python 3"
    },
    "language_info": {
      "name": "python"
    }
  },
  "cells": [
    {
      "cell_type": "markdown",
      "metadata": {
        "id": "view-in-github",
        "colab_type": "text"
      },
      "source": [
        "<a href=\"https://colab.research.google.com/github/Mehrdad-Chamani/Artificial-Neural-Networks/blob/main/ANNs.ipynb\" target=\"_parent\"><img src=\"https://colab.research.google.com/assets/colab-badge.svg\" alt=\"Open In Colab\"/></a>"
      ]
    },
    {
      "cell_type": "markdown",
      "source": [
        "# 3-Layer NN For MNIST Handwritten Digits Classification"
      ],
      "metadata": {
        "id": "JpB9BqS4c8PK"
      }
    },
    {
      "cell_type": "markdown",
      "source": [
        "Initialization      ( آغاز گر ) مشخصات آغازين\n",
        "\n",
        "Query   محاسبه خروجي شبکه ( پرس و جو گر - پيشخور )   \n",
        "\n",
        "Train   اصلاح وزن ها ( يادگيري - پس انتشار)   "
      ],
      "metadata": {
        "id": "sqIeFbhiumMj"
      }
    },
    {
      "cell_type": "markdown",
      "metadata": {
        "id": "wtawldCKfTBa"
      },
      "source": [
        "# Neural Network Class Definition"
      ]
    },
    {
      "cell_type": "code",
      "execution_count": null,
      "metadata": {
        "id": "qrsHg6Yxd548"
      },
      "outputs": [],
      "source": [
        "import numpy as np\n",
        "from scipy.special import expit, logit   # sigmoid\n",
        "import matplotlib.pyplot as plt\n",
        "\n",
        "\n",
        "class NeuralNetwork:\n",
        "  \n",
        "  # initialize the neural network\n",
        "  # معماري شبکه , راه اندازي شبکه عصبي\n",
        "  def __init__(self, input_nodes, hidden_nodes, output_nodes, learning_rate):   # ورودي ها    \n",
        "    # set number of input, hidden and output layers\n",
        "    # number of nodes in each layer\n",
        "    # تعیین تعداد نورون های لایه های مختلف\n",
        "    self.input_nodes = input_nodes   # متغيرند   \n",
        "    self.hidden_nodes = hidden_nodes\n",
        "    self.output_nodes = output_nodes\n",
        "    \n",
        "\n",
        "    # set the learning rate\n",
        "    # تعیین نرخ یادگیری \n",
        "    self.learning_rate = learning_rate\n",
        "\n",
        "    # ایجاد تابع فعال سازی که اینجا زیگموئیدی است ولی می تواند متفاوت باشد   \n",
        "    self.activation_function = lambda x : expit(x)\n",
        "    # ايجاد معکوس تابع فعال سازي براي توليد ورودي هر نورون از روي خروجي \n",
        "    # ( ايجاد معکوس تابع فعال سازي براي اجراي پيش خور معکوس )\n",
        "    self.inverse_activation_function = lambda x : logit(x)\n",
        "\n",
        "    # ایجاد دو ماتریس وزن های اولیه \n",
        "    # یکی برای وزن های بین لایه ورودی و مخفی ، یکی برای وزن های بین لایه مخفی و خروجی\n",
        "    # هر وزن با ایندکس آی و جی ، وزن اتصال بین نورون آی از لایه مبدا ، به نورون جی در لایه مقصد است\n",
        "    # و به همین ترتیب w12 w21 مثلا    \n",
        "    # link weight matrices, w_input_hidden and w_hidden_output \n",
        "    # weights inside the arrays are w_i_j, where link is from node\n",
        "    # i to node j in the next layer \n",
        "    # w11 w21\n",
        "    # w12 w22 etc\n",
        "    \n",
        "    # [-0.5, 0.5]\n",
        "    # self.w_i_h = np.random.rand(self.hidden_nodes, self.input_nodes) - 0.5\n",
        "    mu = 0   # mean and standard deviation\n",
        "    self.w_i_h = np.random.default_rng().normal(mu, pow(self.input_nodes, -0.5),\n",
        "                                                (self.hidden_nodes, self.input_nodes))\n",
        "    # [-0.5, 0.5]\n",
        "    # self.w_h_o = np.random.rand(self.output_nodes, self.hidden_nodes) - 0.5\n",
        "    self.w_h_o = np.random.default_rng().normal(mu, pow(self.hidden_nodes, -0.5),\n",
        "                                                (self.output_nodes, self.hidden_nodes))\n",
        "    pass\n",
        "\n",
        "  # train the neural network\n",
        "  # يادگيري شبکه بر اساس يک نمونه ورودي/خروجي - پس انتشار\n",
        "  def train(self, input_list, targets_list):\n",
        "    # محاسبه سيگنال هاي ورودي و خروجي لايه ها \n",
        "    inputs = np.array(input_list, ndmin=2).T\n",
        "    \n",
        "    x_hidden = np.dot(self.w_i_h, inputs)\n",
        "    o_hidden = self.activation_function(x_hidden)\n",
        "\n",
        "    x_output = np.dot(self.w_h_o, o_hidden)\n",
        "    o_output = self.activation_function(x_output)\n",
        "\n",
        "    # محاسبه خطاي شبکه بر اساس اختلاف خروجي با هدف ها\n",
        "    targets = np.array(targets_list, ndmin=2).T\n",
        "    output_errors = targets - o_output\n",
        "    # پس انتشار خطاي شبکه روي نورون هاي لايه مخفي\n",
        "    hidden_errors = np.dot(self.w_h_o.T, output_errors)\n",
        "\n",
        "    # محاسبه وزن هاي جديد اتصال ها با گراديان کاهشي\n",
        "    # self.w_h_o_new - self.w_h_o = ()\n",
        "    # self.w_h_o += self.learning_rate * np.dot((Ek * Ok * 1 - Ok ), Oj.T)\n",
        "    self.w_h_o += self.learning_rate * np.dot((output_errors * o_output * (1 - o_output)), o_hidden.T)\n",
        "    self.w_i_h += self.learning_rate * np.dot((hidden_errors * o_hidden * (1 - o_hidden)), inputs.T)\n",
        "\n",
        "  \n",
        "  # query the neural network\n",
        "  # محاسبه خروجي شبکه با دادن ورودي - پيش خور  \n",
        "  def query(self, input_list):\n",
        "    # input ---> list\n",
        "    # تبديل ليست مقادير ورودي به آرايه دو بعدي \n",
        "    # [1, 2, 3] ---> array\n",
        "    inputs = np.array(input_list, ndmin=2).T\n",
        "\n",
        "    # محاسبه سيگنال ورودي و سپس خروجي لايه مخفي \n",
        "    # X(hidden) = W(i_h) * I\n",
        "    x_hidden = np.dot(self.w_i_h, inputs)\n",
        "    # O = Sigmoid(X)\n",
        "    o_hidden = self.activation_function(x_hidden)\n",
        "\n",
        "    # محاسبه سيگنال ورودي و سپس خروجي لايه خروجي \n",
        "    # X(output) = W(h_o) * O(h)\n",
        "    x_output = np.dot(self.w_h_o, o_hidden)\n",
        "    # O = Sigmoid(X)\n",
        "    o_output = self.activation_function(x_output)\n",
        "\n",
        "    return o_output\n",
        "\n",
        "\n",
        "  def reversequery(self, targets_list):\n",
        "    o_output = np.array(targets_list, ndmin= 2).T\n",
        "    # رسیدن از خروجی لایه آخر به خروجی لایه مخفی\n",
        "    x_output = self.inverse_activation_function(o_output)\n",
        "    o_hidden = np.dot(self.w_h_o.T, x_output)\n",
        "    # مقیاس کردن داده‌ها برای تزریق به تابع معکوس فعال‌سازی (لاگیت) لایه مخفی\n",
        "    o_hidden -= np.min(o_hidden)\n",
        "    o_hidden /= np.max(o_hidden)\n",
        "    o_hidden *= 0.98\n",
        "    o_hidden += 0.01\n",
        "\n",
        "    # رسیدن از خروجی لایه مخفی به ورودی شبکه\n",
        "    x_hidden = self.inverse_activation_function(o_hidden)\n",
        "    inputs = np.dot(self.w_i_h.T, x_hidden)\n",
        "    # شبکه با ورودی‌های مقیاس شده تعلیم دیده پس ورودی‌های تولیدی باید مقیاس شوند\n",
        "    inputs -= np.min(inputs)\n",
        "    inputs /= np.max(inputs)\n",
        "    inputs *= 0.98\n",
        "    inputs += 0.01\n",
        "\n",
        "    return inputs\n"
      ]
    },
    {
      "cell_type": "code",
      "source": [
        "# sample :\n",
        "\n",
        "# استاندارد سازي ، نرمال سازي ( min, max )\n",
        "# 1\n",
        "# 2, 5, 9\n",
        "# ---> ( 0, 3/7, 1 ) * 0.99\n",
        "\n",
        "# 2\n",
        "# 2, 5, 9\n",
        "# ---> 0, 3, 7\n",
        "# ---> 0, 3/7, 1"
      ],
      "metadata": {
        "id": "jYjZYutXiMfV"
      },
      "execution_count": null,
      "outputs": []
    },
    {
      "cell_type": "markdown",
      "source": [
        "### مراحل اجراي کار : \n",
        "### تهيه داده \n",
        "### مناسب سازي \n",
        "### آموزش و آزمايش \n",
        "### پيش بيني \n",
        "### بهبود شبکه \n",
        "### اسکن مغز "
      ],
      "metadata": {
        "id": "t2UX1XgNXrQf"
      }
    },
    {
      "cell_type": "markdown",
      "metadata": {
        "id": "3nZYyapBfdvA"
      },
      "source": [
        "# Neural Network Instance Creation"
      ]
    },
    {
      "cell_type": "code",
      "execution_count": null,
      "metadata": {
        "colab": {
          "base_uri": "https://localhost:8080/"
        },
        "id": "DZFShQdefU73",
        "outputId": "a67076bc-b6cc-4f68-9418-4c3576897b28"
      },
      "outputs": [
        {
          "output_type": "stream",
          "name": "stdout",
          "text": [
            "Mounted at /content/drive\n"
          ]
        }
      ],
      "source": [
        "# اتصال درايو به کولب و خواندن ديتاست امنيست\n",
        "# فراخواني داده هاي آموزش از ديتاست امنيست\n",
        "from google.colab import drive\n",
        "drive.mount('/content/drive')\n",
        "train_file = open('/content/drive/MyDrive/mnist/mnist_train.csv', 'r')\n",
        "train_list = train_file.readlines()\n",
        "train_file.close()\n",
        "\n",
        "# فراخواني داده هاي آزمايش از ديتاست امنيست\n",
        "# open('', 'r')\n",
        "test_file = open('/content/drive/MyDrive/mnist/mnist_test.csv', 'r')\n",
        "test_list = test_file.readlines()\n",
        "test_file.close()"
      ]
    },
    {
      "cell_type": "code",
      "execution_count": null,
      "metadata": {
        "id": "9MeyTF7mqH8C"
      },
      "outputs": [],
      "source": [
        "# تعيين تعداد نورون ها در هر لايه \n",
        "input_nodes = 784\n",
        "hidden_nodes = 200   # input_nodes > hidden_nodes > output_nodes\n",
        "output_nodes = 10\n",
        "\n",
        "# تعيين نرخ يادگيري شبکه \n",
        "learning_rate = 0.1\n",
        "\n",
        "# تعيين تعداد دوره يادگيري : تکرار يادگيري با تمام ديتاست را يک دوره گوييم \n",
        "epochs = 4\n",
        "# epoch ---> دوره \n",
        "# iteration ---> تکرار \n",
        "\n",
        "# ساخت نمونه از شبکه عصبي با معماري بالا \n",
        "nn = NeuralNetwork(input_nodes= input_nodes, \n",
        "                   hidden_nodes= hidden_nodes, \n",
        "                   output_nodes= output_nodes, \n",
        "                   learning_rate= learning_rate)\n",
        "# print(\"initial weights ( W_input_hidden ): \", nn.w_i_h)\n"
      ]
    },
    {
      "cell_type": "markdown",
      "source": [
        "# NN Training and Testing with MNIST"
      ],
      "metadata": {
        "id": "l0CudyLxYF9d"
      }
    },
    {
      "cell_type": "code",
      "source": [
        "# آماده سازي داده ها :\n",
        "# تغيير مقياس داده هاي ورودي \n",
        "# تغيير مقياس داده هاي خروجي"
      ],
      "metadata": {
        "id": "jFHtwTCjFNLf"
      },
      "execution_count": null,
      "outputs": []
    },
    {
      "cell_type": "code",
      "source": [
        "# sample :\n",
        "\n",
        "# مقياس کردن داده هاي ورودي به محدوده 0.01 تا 1\n",
        "\n",
        "# 0 - 255\n",
        "# 0   ---> 0/255   = 0\n",
        "# 255 ---> 255/255 = 1\n",
        "\n",
        "# 0    ---> 0/255   * 0.99 = 0\n",
        "# 255  ---> 255/255 * 0.99 = 0.99\n",
        "\n",
        "# 0    ---> 0/255   * 0.99 = 0    + 0.01 = 0.01\n",
        "# 255  ---> 255/255 * 0.99 = 0.99 + 0.01 = 1"
      ],
      "metadata": {
        "id": "lxu7ZA7nFZlF"
      },
      "execution_count": null,
      "outputs": []
    },
    {
      "cell_type": "code",
      "source": [
        "# مثال خروجي به ازاي عدد 5 :\n",
        "# [0.01, 0.01, 0.01, 0.01, 0.01, 0.99, 0.01, 0.01, 0.01, 0.01]"
      ],
      "metadata": {
        "id": "Wh7jkjyGGUGm"
      },
      "execution_count": null,
      "outputs": []
    },
    {
      "cell_type": "code",
      "source": [
        "# مقياس کردن داده هاي خروجي به محدوده 0.01 تا 0.99 و ده کلاس"
      ],
      "metadata": {
        "id": "rXtSqAgrGnsE"
      },
      "execution_count": null,
      "outputs": []
    },
    {
      "cell_type": "code",
      "source": [
        "# آموزش شبکه ساخته شده با داده هاي آموزشي امنيست \n",
        "# Batch gradient descent\n",
        "# مقياس کردن داده هاي ورودي به محدوده 0.01 تا 1\n",
        "# مقياس کردن داده هاي خروجي به محدوده 0.01 تا 0.99 و ده کلاس\n",
        "for e in range (epochs):\n",
        "  for row in train_list:   # iteration ---> 60000\n",
        "    row_data = row.split(',')\n",
        "    inputs = (np.asfarray(row_data[1:]) / (255.0 * 0.98)) + 0.01\n",
        "    targets = np.zeros(output_nodes) + 0.01\n",
        "    targets[int(row_data[0])] = 0.99\n",
        "    nn.train(inputs, targets)\n",
        "\n",
        "# print(\"weights ( W_input_hidden ) after a round of training : \", nn.w_i_h)"
      ],
      "metadata": {
        "id": "52XyGunrXoFi"
      },
      "execution_count": null,
      "outputs": []
    },
    {
      "cell_type": "code",
      "execution_count": null,
      "metadata": {
        "colab": {
          "base_uri": "https://localhost:8080/",
          "height": 467
        },
        "id": "q-Bjlcg2iiri",
        "outputId": "6ff595a1-a89c-4b82-85e2-47a78caa62bf"
      },
      "outputs": [
        {
          "output_type": "stream",
          "name": "stdout",
          "text": [
            "Target test is :  7\n"
          ]
        },
        {
          "output_type": "execute_result",
          "data": {
            "text/plain": [
              "array([[0.01501217],\n",
              "       [0.00634167],\n",
              "       [0.0153491 ],\n",
              "       [0.00996723],\n",
              "       [0.01229685],\n",
              "       [0.00785761],\n",
              "       [0.00599982],\n",
              "       [0.99312235],\n",
              "       [0.00459644],\n",
              "       [0.00765704]])"
            ]
          },
          "metadata": {},
          "execution_count": 6
        },
        {
          "output_type": "display_data",
          "data": {
            "text/plain": [
              "<Figure size 432x288 with 1 Axes>"
            ],
            "image/png": "[encoded data removed]"
          },
          "metadata": {
            "needs_background": "light"
          }
        }
      ],
      "source": [
        "# آزمايش شبکه ساخته شده با يکي از داده هاي مجموعه آزمايشي \n",
        "# test_list\n",
        "# نمايش عکس ها در ديتاست امنيست\n",
        "# انتخاب يکي از داده ها و نمايش نام و تصوير آن \n",
        "test_row_data = test_list[0].split(',')\n",
        "# print(test_row_data)   # python list != numpy array\n",
        "# print(test_row_data[0])\n",
        "print(\"Target test is : \", test_row_data[0])\n",
        "\n",
        "image_data = np.asfarray(test_row_data[1:]).reshape((28,28))\n",
        "# image_data ---> array\n",
        "image = plt.imshow(image_data, cmap='Greys')\n",
        "\n",
        "# بررسي پيش بيني شبکه از داده انتخاب شده \n",
        "nn.query((np.asfarray(test_row_data[1:]) / (255.0 * 0.98)) + 0.01)"
      ]
    },
    {
      "cell_type": "code",
      "execution_count": null,
      "metadata": {
        "id": "p9wndLxcuUpt",
        "colab": {
          "base_uri": "https://localhost:8080/"
        },
        "outputId": "2e8adf97-2795-4d76-8504-fbc60c381a15"
      },
      "outputs": [
        {
          "output_type": "stream",
          "name": "stdout",
          "text": [
            "\n",
            "Net Performance :  0.9722\n"
          ]
        }
      ],
      "source": [
        "# آزمايش عملکرد شبکه به لحاظ پيش بيني همه داده هاي آزمايشي \n",
        "score_card = []\n",
        "for row in test_list:\n",
        "  row_data = row.split(',')\n",
        "  target_number = int(row_data[0])\n",
        "  inputs = (np.asfarray(row_data[1:]) / 255.0 * 0.98) + 0.01\n",
        "  outputs = nn.query(inputs)\n",
        "  predicted_number = np.argmax(outputs)\n",
        "  # print(\"\\nTarget Number : \", target_number)\n",
        "  # print(\"Predicted Number : \", predicted_number)\n",
        "  if (target_number == predicted_number):\n",
        "    score_card.append(1)\n",
        "  else:\n",
        "    score_card.append(0)\n",
        "\n",
        "# گزارش عملکرد شبکه \n",
        "# print(\"\\n\\nTotal Score Card :\", score_card)\n",
        "# print(\"\\n\\nNet Score Card :\", score_card)\n",
        "score_card_array = np.asarray(score_card)\n",
        "print(\"\\nNet Performance : \", score_card_array.sum() / score_card_array.size) "
      ]
    },
    {
      "cell_type": "code",
      "execution_count": null,
      "metadata": {
        "colab": {
          "base_uri": "https://localhost:8080/"
        },
        "id": "_Oc8AMq7t7xx",
        "outputId": "e9ad6061-0b47-4110-83d7-9a77ff5a83cf"
      },
      "outputs": [
        {
          "output_type": "stream",
          "name": "stdout",
          "text": [
            "10000\n"
          ]
        }
      ],
      "source": [
        "print(len(score_card))"
      ]
    },
    {
      "cell_type": "code",
      "execution_count": null,
      "metadata": {
        "colab": {
          "base_uri": "https://localhost:8080/"
        },
        "id": "4efYeiSauJUj",
        "outputId": "375210fe-e4ac-44ee-8d06-f9d8735b1a1f"
      },
      "outputs": [
        {
          "output_type": "stream",
          "name": "stdout",
          "text": [
            "60000\n"
          ]
        }
      ],
      "source": [
        "print(len(train_list))"
      ]
    },
    {
      "cell_type": "code",
      "execution_count": null,
      "metadata": {
        "id": "hOiF49bquWuN",
        "colab": {
          "base_uri": "https://localhost:8080/",
          "height": 313
        },
        "outputId": "11007efd-f8ca-45b2-bab1-7b65eeadf4a8"
      },
      "outputs": [
        {
          "output_type": "execute_result",
          "data": {
            "text/plain": [
              "Text(0.5, 1.0, '3-Layer NN For MNIST Handwritten Digits Classification')"
            ]
          },
          "metadata": {},
          "execution_count": 10
        },
        {
          "output_type": "display_data",
          "data": {
            "text/plain": [
              "<Figure size 432x288 with 1 Axes>"
            ],
            "image/png": "[encoded data removed]"
          },
          "metadata": {
            "needs_background": "light"
          }
        }
      ],
      "source": [
        "# بهينه يابي نرخ يادگيري \n",
        "tested_learning_rate = [0.01, 0.1, 0.2, 0.3, 0.3, 0.6]\n",
        "performance_list = [0.9122, 0.9502, 0.9478, 0.9416, 0.9509, 0.8945]\n",
        "fig, ax = plt.subplots()\n",
        "ax.plot(tested_learning_rate, performance_list,\n",
        "        linestyle='--', marker='o');\n",
        "ax.set_xlabel('learning rate')\n",
        "ax.set_ylabel('performance')\n",
        "ax.set_title(\"3-Layer NN For MNIST Handwritten Digits Classification\")\n",
        "# نرخ يادگيري 0.1 انتخاب شد "
      ]
    },
    {
      "cell_type": "code",
      "execution_count": null,
      "metadata": {
        "id": "hmN_TeaioTHg",
        "colab": {
          "base_uri": "https://localhost:8080/",
          "height": 313
        },
        "outputId": "950d978d-a897-458b-b416-e74becc6d1f7"
      },
      "outputs": [
        {
          "output_type": "execute_result",
          "data": {
            "text/plain": [
              "Text(0.5, 1.0, '3-Layer NN For MNIST Handwritten Digits Classification')"
            ]
          },
          "metadata": {},
          "execution_count": 11
        },
        {
          "output_type": "display_data",
          "data": {
            "text/plain": [
              "<Figure size 432x288 with 1 Axes>"
            ],
            "image/png": "[encoded data removed]"
          },
          "metadata": {
            "needs_background": "light"
          }
        }
      ],
      "source": [
        "# بهينه يابي تعداد دوره يادگيري \n",
        "epoch_list = [1, 2, 3, 4, 5, 7, 10, 20]\n",
        "performance_list = [0.948, 0.9616, 0.9622, 0.9698, 0.9666, 0.9659, 0.9657, 0.9596]\n",
        "fig, ax = plt.subplots()\n",
        "ax.plot(epoch_list, performance_list,\n",
        "        linestyle='--', marker='s');\n",
        "ax.set_xlabel('number of epochs')\n",
        "ax.set_ylabel('performance')\n",
        "ax.set_title(\"3-Layer NN For MNIST Handwritten Digits Classification\")\n",
        "# تعداد دوره 4 انتخاب شد . البته ميتوان با نرخ يادگيري کمتر مثل 0.07 هم تعداد دوره ها را بررسي کرد \n",
        "# هرچه تعداد دوره ها بيشتر شود ، نرخ يادگيري بايستي کمي کمتر انتخاب شود ( مثلا 0.05 ) "
      ]
    },
    {
      "cell_type": "code",
      "execution_count": null,
      "metadata": {
        "id": "LA4H5YdSC6Z3",
        "colab": {
          "base_uri": "https://localhost:8080/",
          "height": 313
        },
        "outputId": "1b7ecc88-cad5-4381-a431-37e956cc0681"
      },
      "outputs": [
        {
          "output_type": "execute_result",
          "data": {
            "text/plain": [
              "Text(0.5, 1.0, '3-Layer NN For MNIST Handwritten Digits Classification')"
            ]
          },
          "metadata": {},
          "execution_count": 12
        },
        {
          "output_type": "display_data",
          "data": {
            "text/plain": [
              "<Figure size 432x288 with 1 Axes>"
            ],
            "image/png": "[encoded data removed]"
          },
          "metadata": {
            "needs_background": "light"
          }
        }
      ],
      "source": [
        "# بهينه يابي تعداد نورون هاي لايه مخفي \n",
        "h_nodes_list = [10, 100, 200, 500, 1000, 5000]\n",
        "performance_list = [0.8866, 0.9653, 0.974, 0.9745, 0.9754, 0.9738]\n",
        "fig, ax = plt.subplots()\n",
        "ax.plot(h_nodes_list, performance_list,\n",
        "        linestyle='--', marker='s');\n",
        "ax.set_xlabel('number of epochs')\n",
        "ax.set_ylabel('performance')\n",
        "ax.set_title(\"3-Layer NN For MNIST Handwritten Digits Classification\")\n",
        "# تعداد نورون هاي لايه مخفي با توجه به در نظر گرفتن تعادل حرکت و سرعت اجرا ، 200 انتخاب شد "
      ]
    },
    {
      "cell_type": "markdown",
      "source": [
        "# Predicting Our Own Images Using the NN"
      ],
      "metadata": {
        "id": "0KHdE8dGYT1v"
      }
    },
    {
      "cell_type": "code",
      "source": [
        "# فراخواني عکس هاي خودمان و مناسب سازي داده هاي درون آنها \n",
        "\n",
        "import imageio\n",
        "import glob\n",
        "\n",
        "our_own_dataset = []\n",
        "\n",
        "# فراخواني تصاوير خودمان به عنوان مجموعه داده تست \n",
        "my_images_path = '/content/drive/MyDrive/my_digit_images/2828_my_own_?.png'\n",
        "for image_file_name in glob.glob(my_images_path):\n",
        "\n",
        "  # نام فايل همان ليبل يا هدف مورد پيش بيني است \n",
        "  label = int(image_file_name[-5:-4])\n",
        "  print(\"loading . . . \", image_file_name)\n",
        "\n",
        "  # واريز داده هاي پيکسل هاي عکس پي.ان.جي در يک آرايه \n",
        "  img_array = imageio.imread(image_file_name, as_gray= True)\n",
        "  # ايجاد يک آرايه خطي 784 عضوي از ماتريس 28 در 28 عکس بالا و معکوس کردن مقادير \n",
        "  # ( مطابق با داده هاي امنيست : صفر نشانه سفيد و 255 سياه است )\n",
        "  img_data = 255.0 - img_array.reshape(784)\n",
        "\n",
        "  # آماده کردن ورودي \n",
        "  img_data = (img_data / 255.0 * 0.99) + 0.01\n",
        "  print(np.min(img_data))\n",
        "  print(np.max(img_data))\n",
        "\n",
        "  # ايجاد ديتاست شبيه به ديتاست امنيست - شامل سطرهايي که \n",
        "  # هر سطر داده هاي يک عکس شامل 785 عدد باشد . 1 خروجي بعلاوه 784 عدد سازنده ورودي ها \n",
        "  record = np.append(label, img_data)\n",
        "  our_own_dataset.append(record)"
      ],
      "metadata": {
        "id": "nfO_EMDyYgjE",
        "colab": {
          "base_uri": "https://localhost:8080/"
        },
        "outputId": "0520084d-d179-410d-9f24-422bdd56e70b"
      },
      "execution_count": null,
      "outputs": [
        {
          "output_type": "stream",
          "name": "stdout",
          "text": [
            "loading . . .  /content/drive/MyDrive/my_digit_images/2828_my_own_2.png\n",
            "0.01\n",
            "1.0\n",
            "loading . . .  /content/drive/MyDrive/my_digit_images/2828_my_own_3.png\n",
            "0.01\n",
            "1.0\n",
            "loading . . .  /content/drive/MyDrive/my_digit_images/2828_my_own_4.png\n",
            "0.01\n",
            "0.93011767\n",
            "loading . . .  /content/drive/MyDrive/my_digit_images/2828_my_own_5.png\n",
            "0.01\n",
            "0.86800003\n",
            "loading . . .  /content/drive/MyDrive/my_digit_images/2828_my_own_6.png\n",
            "0.01\n",
            "1.0\n"
          ]
        }
      ]
    },
    {
      "cell_type": "code",
      "source": [
        "# sample :\n",
        "\n",
        "a = 'mehrdad_12.png'\n",
        "print(int(a[-6:-4]))"
      ],
      "metadata": {
        "id": "2jV_lHvAnfXk",
        "colab": {
          "base_uri": "https://localhost:8080/"
        },
        "outputId": "44b187b3-c9f4-438f-8c31-6fc130cd4e2f"
      },
      "execution_count": null,
      "outputs": [
        {
          "output_type": "stream",
          "name": "stdout",
          "text": [
            "12\n"
          ]
        }
      ]
    },
    {
      "cell_type": "code",
      "source": [
        "# پيش بيني شبکه عصبي از عدد نوشته شده در يک عکس تصادفي \n",
        "\n",
        "# انتخاب يک عکس به صورت تصادفي\n",
        "item = 4\n",
        "\n",
        "# نمايش عکس انتخاب شده \n",
        "plt.imshow(our_own_dataset[item][1:].reshape(28,28), cmap= 'Greys', interpolation= 'None')\n",
        "\n",
        "# نخستين عضو سطر انتخاب شده همان خروجي ( عدد درون عکس ) است \n",
        "correct_label = our_own_dataset[item][0]\n",
        "# باقي داده هاي آن سطر ، ورودي ها هستند . \n",
        "inputs = our_own_dataset[item][1:]\n",
        "\n",
        "# پرس و جوي شبکه در مورد اين عکس \n",
        "outputs = nn.query(inputs)\n",
        "print(outputs)\n",
        "\n",
        "# ايندکس بزرگترين عدد در رشته خروجي توليدي شبکه نشانه پيش بيني شبکه است \n",
        "label = np.argmax(outputs)\n",
        "print('پيش بيني شبکه : ', label)\n",
        "if (label == correct_label):\n",
        "  print('پيش بيني درست است !')\n",
        "else:\n",
        "  print('پيش بيني نادرست است !')"
      ],
      "metadata": {
        "colab": {
          "base_uri": "https://localhost:8080/",
          "height": 485
        },
        "id": "nmn-odhesHFn",
        "outputId": "550158f6-3a16-4c3b-a9a7-a042f17f2f33"
      },
      "execution_count": null,
      "outputs": [
        {
          "output_type": "stream",
          "name": "stdout",
          "text": [
            "[[0.00602914]\n",
            " [0.05251026]\n",
            " [0.00080971]\n",
            " [0.00478259]\n",
            " [0.00856144]\n",
            " [0.12154868]\n",
            " [0.44303162]\n",
            " [0.01472137]\n",
            " [0.0036339 ]\n",
            " [0.00777473]]\n",
            "پيش بيني شبکه :  6\n",
            "پيش بيني درست است !\n"
          ]
        },
        {
          "output_type": "display_data",
          "data": {
            "text/plain": [
              "<Figure size 432x288 with 1 Axes>"
            ],
            "image/png": "[encoded data removed]"
          },
          "metadata": {
            "needs_background": "light"
          }
        }
      ]
    },
    {
      "cell_type": "code",
      "source": [
        "# پيش بيني شبکه عصبي از عدد نوشته شده در يک عکس تصادفي \n",
        "\n",
        "# انتخاب يک عکس به صورت تصادفي\n",
        "item = 3\n",
        "\n",
        "# نمايش عکس انتخاب شده \n",
        "plt.imshow(our_own_dataset[item][1:].reshape(28,28), cmap= 'Greys', interpolation= 'None')\n",
        "\n",
        "# نخستين عضو سطر انتخاب شده همان خروجي ( عدد درون عکس ) است \n",
        "correct_label = our_own_dataset[item][0]\n",
        "# باقي داده هاي آن سطر ، ورودي ها هستند . \n",
        "inputs = our_own_dataset[item][1:]\n",
        "\n",
        "# پرس و جوي شبکه در مورد اين عکس \n",
        "outputs = nn.query(inputs)\n",
        "print(outputs)\n",
        "\n",
        "# ايندکس بزرگترين عدد در رشته خروجي توليدي شبکه نشانه پيش بيني شبکه است \n",
        "label = np.argmax(outputs)\n",
        "print('پيش بيني شبکه : ', label)\n",
        "if (label == correct_label):\n",
        "  print('پيش بيني درست است !')\n",
        "else:\n",
        "  print('پيش بيني نادرست است !')"
      ],
      "metadata": {
        "id": "LFY9ZcOJ67NQ",
        "outputId": "fd6da0f1-a919-426f-a990-73aa9c47c5a1",
        "colab": {
          "base_uri": "https://localhost:8080/",
          "height": 485
        }
      },
      "execution_count": null,
      "outputs": [
        {
          "output_type": "stream",
          "name": "stdout",
          "text": [
            "[[4.43861649e-03]\n",
            " [1.94810009e-03]\n",
            " [6.86702008e-03]\n",
            " [9.93354104e-03]\n",
            " [4.21878727e-04]\n",
            " [8.31414639e-01]\n",
            " [8.37546662e-03]\n",
            " [1.67074164e-02]\n",
            " [7.91530709e-05]\n",
            " [6.39216346e-03]]\n",
            "پيش بيني شبکه :  5\n",
            "پيش بيني درست است !\n"
          ]
        },
        {
          "output_type": "display_data",
          "data": {
            "text/plain": [
              "<Figure size 432x288 with 1 Axes>"
            ],
            "image/png": "[encoded data removed]"
          },
          "metadata": {
            "needs_background": "light"
          }
        }
      ]
    },
    {
      "cell_type": "markdown",
      "source": [
        "# Black Box of the NN ( Brain Scan )"
      ],
      "metadata": {
        "id": "o1CEO4mDyKLM"
      }
    },
    {
      "cell_type": "code",
      "source": [
        "# شبکه به چه عددی فکر کند؟\n",
        "label = 0\n",
        "# تبدیل عدد درخواستی به لیستی با مقادیر مقیاس‌شده\n",
        "targets_list = np.zeros(output_nodes) + 0.01\n",
        "targets_list[label] = 0.99\n",
        "# تولید عکس عدد با  تابع پرس و جوی معکوس شبکه\n",
        "image_array = nn.reversequery(targets_list)\n",
        "print('اسکن مغز شبکه عصبي براي عدد : ', label)\n",
        "plt.imshow(image_array.reshape((28, 28)), cmap= 'Greys')"
      ],
      "metadata": {
        "colab": {
          "base_uri": "https://localhost:8080/",
          "height": 302
        },
        "id": "ONtK4tmsyNCy",
        "outputId": "929530dd-476c-462a-b389-b281d62467f9"
      },
      "execution_count": null,
      "outputs": [
        {
          "output_type": "stream",
          "name": "stdout",
          "text": [
            "اسکن مغز شبکه عصبي براي عدد :  0\n"
          ]
        },
        {
          "output_type": "execute_result",
          "data": {
            "text/plain": [
              "<matplotlib.image.AxesImage at 0x7f55faedf5d0>"
            ]
          },
          "metadata": {},
          "execution_count": 17
        },
        {
          "output_type": "display_data",
          "data": {
            "text/plain": [
              "<Figure size 432x288 with 1 Axes>"
            ],
            "image/png": "[encoded data removed]"
          },
          "metadata": {
            "needs_background": "light"
          }
        }
      ]
    },
    {
      "cell_type": "code",
      "source": [
        "label = 6\n",
        "targets_list = np.zeros(output_nodes) + 0.01\n",
        "targets_list[label] = 0.99\n",
        "image_array = nn.reversequery(targets_list)\n",
        "print('اسکن مغز شبکه عصبي براي عدد : ', label)\n",
        "plt.imshow(image_array.reshape((28, 28)), cmap= 'Greys')"
      ],
      "metadata": {
        "colab": {
          "base_uri": "https://localhost:8080/",
          "height": 302
        },
        "id": "oOkLAC2f6irE",
        "outputId": "4a4fc710-8a92-4b04-c6d8-2a5df9ef98c4"
      },
      "execution_count": null,
      "outputs": [
        {
          "output_type": "stream",
          "name": "stdout",
          "text": [
            "اسکن مغز شبکه عصبي براي عدد :  6\n"
          ]
        },
        {
          "output_type": "execute_result",
          "data": {
            "text/plain": [
              "<matplotlib.image.AxesImage at 0x7f55fae5ad10>"
            ]
          },
          "metadata": {},
          "execution_count": 18
        },
        {
          "output_type": "display_data",
          "data": {
            "text/plain": [
              "<Figure size 432x288 with 1 Axes>"
            ],
            "image/png": "[encoded data removed]"
          },
          "metadata": {
            "needs_background": "light"
          }
        }
      ]
    }
  ]
}